{
  "nbformat": 4,
  "nbformat_minor": 0,
  "metadata": {
    "colab": {
      "provenance": [],
      "include_colab_link": true
    },
    "kernelspec": {
      "name": "python3",
      "display_name": "Python 3"
    },
    "language_info": {
      "name": "python"
    }
  },
  "cells": [
    {
      "cell_type": "markdown",
      "metadata": {
        "id": "view-in-github",
        "colab_type": "text"
      },
      "source": [
        "<a href=\"https://colab.research.google.com/github/SadeemAlasiri/Ex_week3/blob/main/Copy_of_SVD_Exercise.ipynb\" target=\"_parent\"><img src=\"https://colab.research.google.com/assets/colab-badge.svg\" alt=\"Open In Colab\"/></a>"
      ]
    },
    {
      "cell_type": "markdown",
      "source": [
        "#**SVD**"
      ],
      "metadata": {
        "id": "0PzxgQHw9ccz"
      }
    },
    {
      "cell_type": "markdown",
      "source": [
        "#import libraries"
      ],
      "metadata": {
        "id": "luFPiQ2i9myX"
      }
    },
    {
      "cell_type": "code",
      "execution_count": 1,
      "metadata": {
        "id": "G-4zglvy9WkS"
      },
      "outputs": [],
      "source": [
        "import numpy as np"
      ]
    },
    {
      "cell_type": "markdown",
      "source": [
        "#Load the tabular dataset :\n",
        "\n",
        "dataset :\n",
        "\n",
        "\n",
        "    [1, 2, 1, 0, 4],\n",
        "\n",
        "    [2, 3, 4, 0, 2],\n",
        "\n",
        "    [3, 1, 1, 0, 5],\n",
        "\n",
        "    [4, 0, 2, 5, 0],\n",
        "\n",
        "    [5, 4, 0, 1, 2]\n"
      ],
      "metadata": {
        "id": "nZFDaio79sgu"
      }
    },
    {
      "cell_type": "code",
      "source": [
        "data_ar=([[1, 2, 1, 0, 4],\n",
        "\n",
        "     [2, 3, 4, 0, 2],\n",
        "\n",
        "     [3, 1, 1, 0, 5],\n",
        "\n",
        "     [4, 0, 2, 5, 0],\n",
        "\n",
        "     [5, 4, 0, 1, 2]])"
      ],
      "metadata": {
        "id": "MQ009CYG9qQS"
      },
      "execution_count": 10,
      "outputs": []
    },
    {
      "cell_type": "code",
      "source": [
        "data_ar"
      ],
      "metadata": {
        "colab": {
          "base_uri": "https://localhost:8080/"
        },
        "id": "NzxsvB0kDgvc",
        "outputId": "5f0e4d91-f9d9-419d-f6d9-01ee29f3842c"
      },
      "execution_count": 11,
      "outputs": [
        {
          "output_type": "execute_result",
          "data": {
            "text/plain": [
              "[[1, 2, 1, 0, 4],\n",
              " [2, 3, 4, 0, 2],\n",
              " [3, 1, 1, 0, 5],\n",
              " [4, 0, 2, 5, 0],\n",
              " [5, 4, 0, 1, 2]]"
            ]
          },
          "metadata": {},
          "execution_count": 11
        }
      ]
    },
    {
      "cell_type": "markdown",
      "source": [
        "#Perform Singular Value Decomposition (SVD)\n"
      ],
      "metadata": {
        "id": "2roOK1gZ9yQo"
      }
    },
    {
      "cell_type": "code",
      "source": [
        "U, s, VT = np.linalg.svd(data_ar)"
      ],
      "metadata": {
        "id": "0I7M_W_E9vka"
      },
      "execution_count": 13,
      "outputs": []
    },
    {
      "cell_type": "markdown",
      "source": [
        "# Extract the singular values and vectors"
      ],
      "metadata": {
        "id": "5ygCLQNt96Vb"
      }
    },
    {
      "cell_type": "code",
      "source": [
        "singular_values = np.diag(s)\n",
        "left_singular_vectors = U\n",
        "right_singular_vectors = VT.T"
      ],
      "metadata": {
        "id": "d_hE13Sn94k5"
      },
      "execution_count": 14,
      "outputs": []
    },
    {
      "cell_type": "markdown",
      "source": [
        "# Perform dimensionality reduction by selecting top k singular values and vectors\n"
      ],
      "metadata": {
        "id": "piU0jgug9_gD"
      }
    },
    {
      "cell_type": "code",
      "source": [
        "k = 2\n",
        "reduced_dataset = np.dot(np.dot(left_singular_vectors[:, :k], singular_values[:k, :k]), right_singular_vectors[:, :k].T)"
      ],
      "metadata": {
        "id": "c55uNNCH9-5d"
      },
      "execution_count": 15,
      "outputs": []
    },
    {
      "cell_type": "markdown",
      "source": [
        "# Print the original and reduced datasets\n"
      ],
      "metadata": {
        "id": "4raXfdzz-Gex"
      }
    },
    {
      "cell_type": "code",
      "source": [
        "print(\"Original data_ar:\")\n",
        "print(data_ar)\n",
        "print(reduced_dataset)"
      ],
      "metadata": {
        "id": "c7YIIN3S-DTl",
        "colab": {
          "base_uri": "https://localhost:8080/"
        },
        "outputId": "4379459e-355d-4701-fe00-5c46edad87d8"
      },
      "execution_count": 18,
      "outputs": [
        {
          "output_type": "stream",
          "name": "stdout",
          "text": [
            "Original data_ar:\n",
            "[[1, 2, 1, 0, 4], [2, 3, 4, 0, 2], [3, 1, 1, 0, 5], [4, 0, 2, 5, 0], [5, 4, 0, 1, 2]]\n",
            "[[ 1.68517423  2.16823828  1.03211446 -0.78448115  3.35352314]\n",
            " [ 2.74997839  2.2474459   1.40223771  0.45592685  3.01586488]\n",
            " [ 2.65238506  2.68115204  1.46466169 -0.25083665  3.88603508]\n",
            " [ 4.38005462  0.72090701  1.60881922  4.57102627 -0.63704194]\n",
            " [ 4.0133692   2.54718625  1.88634605  1.65093492  3.00682541]]\n"
          ]
        }
      ]
    },
    {
      "cell_type": "markdown",
      "source": [
        "#**Well done :)**"
      ],
      "metadata": {
        "id": "ASLB0yos-Ofm"
      }
    }
  ]
}